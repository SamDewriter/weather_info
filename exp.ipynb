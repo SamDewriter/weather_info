{
 "cells": [
  {
   "cell_type": "code",
   "execution_count": 32,
   "metadata": {},
   "outputs": [],
   "source": [
    "import pandas as pd\n",
    "import os\n",
    "import requests\n",
    "import psycopg2\n",
    "from dotenv import load_dotenv\n",
    "from pprint import pprint\n"
   ]
  },
  {
   "cell_type": "code",
   "execution_count": 29,
   "metadata": {},
   "outputs": [
    {
     "name": "stdout",
     "output_type": "stream",
     "text": [
      "0fbcbae8b0c700cd4557420dd298288f\n"
     ]
    }
   ],
   "source": [
    "#load the api key from the dotenv file and make sure you save the contents of the .env file\n",
    "load_dotenv()\n",
    "API_KEY = os.getenv(\"API_KEY\")\n",
    "print(API_KEY)"
   ]
  },
  {
   "cell_type": "code",
   "execution_count": 30,
   "metadata": {},
   "outputs": [],
   "source": [
    "#get the url for the data\n",
    "BASE_URL = \"http://api.weatherstack.com/current\""
   ]
  },
  {
   "cell_type": "code",
   "execution_count": 31,
   "metadata": {},
   "outputs": [],
   "source": [
    "\n",
    "location = \"New York\"\n",
    "params = {\n",
    "    \"access_key\": API_KEY,\n",
    "    \"query\": location\n",
    "}"
   ]
  },
  {
   "cell_type": "code",
   "execution_count": 28,
   "metadata": {},
   "outputs": [
    {
     "name": "stdout",
     "output_type": "stream",
     "text": [
      "{'request': {'type': 'City', 'query': 'New York, United States of America', 'language': 'en', 'unit': 'm'}, 'location': {'name': 'New York', 'country': 'United States of America', 'region': 'New York', 'lat': '40.714', 'lon': '-74.006', 'timezone_id': 'America/New_York', 'localtime': '2024-12-03 12:05', 'localtime_epoch': 1733227500, 'utc_offset': '-5.0'}, 'current': {'observation_time': '05:05 PM', 'temperature': 3, 'weather_code': 116, 'weather_icons': ['https://cdn.worldweatheronline.com/images/wsymbols01_png_64/wsymbol_0002_sunny_intervals.png'], 'weather_descriptions': ['Partly cloudy'], 'wind_speed': 15, 'wind_degree': 304, 'wind_dir': 'WNW', 'pressure': 1025, 'precip': 0, 'humidity': 56, 'cloudcover': 25, 'feelslike': -1, 'uv_index': 1, 'visibility': 16, 'is_day': 'yes'}}\n"
     ]
    }
   ],
   "source": [
    "response = requests.get(BASE_URL, params = params)\n",
    "if response.status_code == 200:\n",
    "    data = response.json()\n",
    "print(data)\n"
   ]
  },
  {
   "cell_type": "code",
   "execution_count": 33,
   "metadata": {},
   "outputs": [
    {
     "name": "stdout",
     "output_type": "stream",
     "text": [
      "{'current': {'cloudcover': 25,\n",
      "             'feelslike': -1,\n",
      "             'humidity': 56,\n",
      "             'is_day': 'yes',\n",
      "             'observation_time': '05:05 PM',\n",
      "             'precip': 0,\n",
      "             'pressure': 1025,\n",
      "             'temperature': 3,\n",
      "             'uv_index': 1,\n",
      "             'visibility': 16,\n",
      "             'weather_code': 116,\n",
      "             'weather_descriptions': ['Partly cloudy'],\n",
      "             'weather_icons': ['https://cdn.worldweatheronline.com/images/wsymbols01_png_64/wsymbol_0002_sunny_intervals.png'],\n",
      "             'wind_degree': 304,\n",
      "             'wind_dir': 'WNW',\n",
      "             'wind_speed': 15},\n",
      " 'location': {'country': 'United States of America',\n",
      "              'lat': '40.714',\n",
      "              'localtime': '2024-12-03 12:05',\n",
      "              'localtime_epoch': 1733227500,\n",
      "              'lon': '-74.006',\n",
      "              'name': 'New York',\n",
      "              'region': 'New York',\n",
      "              'timezone_id': 'America/New_York',\n",
      "              'utc_offset': '-5.0'},\n",
      " 'request': {'language': 'en',\n",
      "             'query': 'New York, United States of America',\n",
      "             'type': 'City',\n",
      "             'unit': 'm'}}\n"
     ]
    }
   ],
   "source": [
    "#lets use pprint to make it more readable\n",
    "pprint(data)"
   ]
  },
  {
   "cell_type": "code",
   "execution_count": 44,
   "metadata": {},
   "outputs": [
    {
     "name": "stdout",
     "output_type": "stream",
     "text": [
      "{'humidity': 56,\n",
      " 'local_time': '2024-12-03 12:05',\n",
      " 'location': 'New York',\n",
      " 'precip': 0,\n",
      " 'pressure': 1025,\n",
      " 'temperature': 3,\n",
      " 'visibility': 16,\n",
      " 'wind_degree': 304}\n"
     ]
    }
   ],
   "source": [
    "#let us create a dataframe by retrieving some important information from the json file\n",
    "#location, temperature, local time, precip, pressure, humidity, visibility and wind degree\n",
    "weather_data = {\n",
    "    \"location\" : data['location']['name'],\n",
    "    \"temperature\" : data['current']['temperature'],\n",
    "    \"local_time\" : data['location']['localtime'],\n",
    "    \"humidity\" : data['current']['humidity'],\n",
    "    \"precip\" : data['current']['precip'],\n",
    "    \"pressure\" : data['current']['pressure'],\n",
    "   \"visibility\" : data['current']['visibility'],\n",
    "    \"wind_degree\" : data['current']['wind_degree']\n",
    "}\n",
    "\n",
    "pprint(weather_data)"
   ]
  },
  {
   "cell_type": "code",
   "execution_count": 47,
   "metadata": {},
   "outputs": [
    {
     "data": {
      "text/html": [
       "<div>\n",
       "<style scoped>\n",
       "    .dataframe tbody tr th:only-of-type {\n",
       "        vertical-align: middle;\n",
       "    }\n",
       "\n",
       "    .dataframe tbody tr th {\n",
       "        vertical-align: top;\n",
       "    }\n",
       "\n",
       "    .dataframe thead th {\n",
       "        text-align: right;\n",
       "    }\n",
       "</style>\n",
       "<table border=\"1\" class=\"dataframe\">\n",
       "  <thead>\n",
       "    <tr style=\"text-align: right;\">\n",
       "      <th></th>\n",
       "      <th>location</th>\n",
       "      <th>temperature</th>\n",
       "      <th>local_time</th>\n",
       "      <th>humidity</th>\n",
       "      <th>precip</th>\n",
       "      <th>pressure</th>\n",
       "      <th>visibility</th>\n",
       "      <th>wind_degree</th>\n",
       "    </tr>\n",
       "  </thead>\n",
       "  <tbody>\n",
       "    <tr>\n",
       "      <th>0</th>\n",
       "      <td>New York</td>\n",
       "      <td>3</td>\n",
       "      <td>2024-12-03 12:05</td>\n",
       "      <td>56</td>\n",
       "      <td>0</td>\n",
       "      <td>1025</td>\n",
       "      <td>16</td>\n",
       "      <td>304</td>\n",
       "    </tr>\n",
       "  </tbody>\n",
       "</table>\n",
       "</div>"
      ],
      "text/plain": [
       "   location  temperature        local_time  humidity  precip  pressure  \\\n",
       "0  New York            3  2024-12-03 12:05        56       0      1025   \n",
       "\n",
       "   visibility  wind_degree  \n",
       "0          16          304  "
      ]
     },
     "execution_count": 47,
     "metadata": {},
     "output_type": "execute_result"
    }
   ],
   "source": [
    "#converting the weather data to a dataf frame\n",
    "weather_Data = pd.DataFrame([weather_data])\n",
    "weather_Data"
   ]
  },
  {
   "cell_type": "code",
   "execution_count": 62,
   "metadata": {},
   "outputs": [],
   "source": [
    "#to fetch this data for five locations\n",
    "locations = [\"New York\", \"Los Angeles\", \"Chicago\", \"Houston\", \"Phoenix\"]\n",
    "new_weather_data = []\n",
    "\n",
    "for location in locations:\n",
    "    params = {\n",
    "        \"access_key\": API_KEY,\n",
    "        \"query\": location\n",
    "    }\n",
    "\n",
    "    response = requests.get(BASE_URL, params = params)\n",
    "    if response.status_code == 200:\n",
    "        new_data = response.json()\n",
    "        new_weather_data.append(new_data)\n"
   ]
  },
  {
   "cell_type": "code",
   "execution_count": 63,
   "metadata": {},
   "outputs": [
    {
     "name": "stdout",
     "output_type": "stream",
     "text": [
      "[{'current': {'cloudcover': 100,\n",
      "              'feelslike': 1,\n",
      "              'humidity': 46,\n",
      "              'is_day': 'yes',\n",
      "              'observation_time': '07:11 PM',\n",
      "              'precip': 0,\n",
      "              'pressure': 1024,\n",
      "              'temperature': 4,\n",
      "              'uv_index': 1,\n",
      "              'visibility': 16,\n",
      "              'weather_code': 122,\n",
      "              'weather_descriptions': ['Overcast'],\n",
      "              'weather_icons': ['https://cdn.worldweatheronline.com/images/wsymbols01_png_64/wsymbol_0004_black_low_cloud.png'],\n",
      "              'wind_degree': 287,\n",
      "              'wind_dir': 'WNW',\n",
      "              'wind_speed': 15},\n",
      "  'location': {'country': 'United States of America',\n",
      "               'lat': '40.714',\n",
      "               'localtime': '2024-12-03 14:11',\n",
      "               'localtime_epoch': 1733235060,\n",
      "               'lon': '-74.006',\n",
      "               'name': 'New York',\n",
      "               'region': 'New York',\n",
      "               'timezone_id': 'America/New_York',\n",
      "               'utc_offset': '-5.0'},\n",
      "  'request': {'language': 'en',\n",
      "              'query': 'New York, United States of America',\n",
      "              'type': 'City',\n",
      "              'unit': 'm'}},\n",
      " {'current': {'cloudcover': 0,\n",
      "              'feelslike': 16,\n",
      "              'humidity': 62,\n",
      "              'is_day': 'yes',\n",
      "              'observation_time': '06:56 PM',\n",
      "              'precip': 0,\n",
      "              'pressure': 1021,\n",
      "              'temperature': 16,\n",
      "              'uv_index': 2,\n",
      "              'visibility': 13,\n",
      "              'weather_code': 113,\n",
      "              'weather_descriptions': ['Sunny'],\n",
      "              'weather_icons': ['https://cdn.worldweatheronline.com/images/wsymbols01_png_64/wsymbol_0001_sunny.png'],\n",
      "              'wind_degree': 144,\n",
      "              'wind_dir': 'SE',\n",
      "              'wind_speed': 4},\n",
      "  'location': {'country': 'United States of America',\n",
      "               'lat': '34.052',\n",
      "               'localtime': '2024-12-03 10:56',\n",
      "               'localtime_epoch': 1733223360,\n",
      "               'lon': '-118.243',\n",
      "               'name': 'Los Angeles',\n",
      "               'region': 'California',\n",
      "               'timezone_id': 'America/Los_Angeles',\n",
      "               'utc_offset': '-8.0'},\n",
      "  'request': {'language': 'en',\n",
      "              'query': 'Los Angeles, United States of America',\n",
      "              'type': 'City',\n",
      "              'unit': 'm'}},\n",
      " {'current': {'cloudcover': 50,\n",
      "              'feelslike': -6,\n",
      "              'humidity': 58,\n",
      "              'is_day': 'yes',\n",
      "              'observation_time': '07:11 PM',\n",
      "              'precip': 0,\n",
      "              'pressure': 1031,\n",
      "              'temperature': -1,\n",
      "              'uv_index': 1,\n",
      "              'visibility': 16,\n",
      "              'weather_code': 116,\n",
      "              'weather_descriptions': ['Partly cloudy'],\n",
      "              'weather_icons': ['https://cdn.worldweatheronline.com/images/wsymbols01_png_64/wsymbol_0002_sunny_intervals.png'],\n",
      "              'wind_degree': 240,\n",
      "              'wind_dir': 'WSW',\n",
      "              'wind_speed': 17},\n",
      "  'location': {'country': 'United States of America',\n",
      "               'lat': '41.850',\n",
      "               'localtime': '2024-12-03 13:11',\n",
      "               'localtime_epoch': 1733231460,\n",
      "               'lon': '-87.650',\n",
      "               'name': 'Chicago',\n",
      "               'region': 'Illinois',\n",
      "               'timezone_id': 'America/Chicago',\n",
      "               'utc_offset': '-6.0'},\n",
      "  'request': {'language': 'en',\n",
      "              'query': 'Chicago, United States of America',\n",
      "              'type': 'City',\n",
      "              'unit': 'm'}},\n",
      " {'current': {'cloudcover': 0,\n",
      "              'feelslike': 17,\n",
      "              'humidity': 32,\n",
      "              'is_day': 'yes',\n",
      "              'observation_time': '07:11 PM',\n",
      "              'precip': 0,\n",
      "              'pressure': 1030,\n",
      "              'temperature': 17,\n",
      "              'uv_index': 3,\n",
      "              'visibility': 16,\n",
      "              'weather_code': 113,\n",
      "              'weather_descriptions': ['Sunny'],\n",
      "              'weather_icons': ['https://cdn.worldweatheronline.com/images/wsymbols01_png_64/wsymbol_0001_sunny.png'],\n",
      "              'wind_degree': 100,\n",
      "              'wind_dir': 'E',\n",
      "              'wind_speed': 15},\n",
      "  'location': {'country': 'United States of America',\n",
      "               'lat': '29.763',\n",
      "               'localtime': '2024-12-03 13:11',\n",
      "               'localtime_epoch': 1733231460,\n",
      "               'lon': '-95.363',\n",
      "               'name': 'Houston',\n",
      "               'region': 'Texas',\n",
      "               'timezone_id': 'America/Chicago',\n",
      "               'utc_offset': '-6.0'},\n",
      "  'request': {'language': 'en',\n",
      "              'query': 'Houston, United States of America',\n",
      "              'type': 'City',\n",
      "              'unit': 'm'}},\n",
      " {'current': {'cloudcover': 25,\n",
      "              'feelslike': 23,\n",
      "              'humidity': 14,\n",
      "              'is_day': 'yes',\n",
      "              'observation_time': '07:27 PM',\n",
      "              'precip': 0,\n",
      "              'pressure': 1019,\n",
      "              'temperature': 24,\n",
      "              'uv_index': 3,\n",
      "              'visibility': 16,\n",
      "              'weather_code': 116,\n",
      "              'weather_descriptions': ['Partly cloudy'],\n",
      "              'weather_icons': ['https://cdn.worldweatheronline.com/images/wsymbols01_png_64/wsymbol_0002_sunny_intervals.png'],\n",
      "              'wind_degree': 106,\n",
      "              'wind_dir': 'ESE',\n",
      "              'wind_speed': 7},\n",
      "  'location': {'country': 'United States of America',\n",
      "               'lat': '33.448',\n",
      "               'localtime': '2024-12-03 12:27',\n",
      "               'localtime_epoch': 1733228820,\n",
      "               'lon': '-112.073',\n",
      "               'name': 'Phoenix',\n",
      "               'region': 'Arizona',\n",
      "               'timezone_id': 'America/Phoenix',\n",
      "               'utc_offset': '-7.0'},\n",
      "  'request': {'language': 'en',\n",
      "              'query': 'Phoenix, United States of America',\n",
      "              'type': 'City',\n",
      "              'unit': 'm'}}]\n"
     ]
    }
   ],
   "source": [
    "pprint(new_weather_data)"
   ]
  },
  {
   "cell_type": "code",
   "execution_count": 96,
   "metadata": {},
   "outputs": [],
   "source": [
    "transformed_data = []\n",
    "for data in new_weather_data:\n",
    "    transformed_data.append({\n",
    "        \"location\" : data['location']['name'],\n",
    "        \"temperature\" : data['current']['temperature'],\n",
    "        \"local_time\" : data['location']['localtime'],\n",
    "        \"humidity\" : data['current']['humidity'],\n",
    "        \"pressure\" : data['current']['pressure'],\n",
    "        \"visibility\" : data['current']['visibility'],\n",
    "        \"wind_speed\" : data['current']['wind_speed'],\n",
    "        \"wind_degree\" : data['current']['wind_degree']\n",
    "    })"
   ]
  },
  {
   "cell_type": "code",
   "execution_count": 97,
   "metadata": {},
   "outputs": [
    {
     "data": {
      "text/plain": [
       "[{'location': 'New York',\n",
       "  'temperature': 4,\n",
       "  'local_time': '2024-12-03 14:11',\n",
       "  'humidity': 46,\n",
       "  'pressure': 1024,\n",
       "  'visibility': 16,\n",
       "  'wind_speed': 15,\n",
       "  'wind_degree': 287},\n",
       " {'location': 'Los Angeles',\n",
       "  'temperature': 16,\n",
       "  'local_time': '2024-12-03 10:56',\n",
       "  'humidity': 62,\n",
       "  'pressure': 1021,\n",
       "  'visibility': 13,\n",
       "  'wind_speed': 4,\n",
       "  'wind_degree': 144},\n",
       " {'location': 'Chicago',\n",
       "  'temperature': -1,\n",
       "  'local_time': '2024-12-03 13:11',\n",
       "  'humidity': 58,\n",
       "  'pressure': 1031,\n",
       "  'visibility': 16,\n",
       "  'wind_speed': 17,\n",
       "  'wind_degree': 240},\n",
       " {'location': 'Houston',\n",
       "  'temperature': 17,\n",
       "  'local_time': '2024-12-03 13:11',\n",
       "  'humidity': 32,\n",
       "  'pressure': 1030,\n",
       "  'visibility': 16,\n",
       "  'wind_speed': 15,\n",
       "  'wind_degree': 100},\n",
       " {'location': 'Phoenix',\n",
       "  'temperature': 24,\n",
       "  'local_time': '2024-12-03 12:27',\n",
       "  'humidity': 14,\n",
       "  'pressure': 1019,\n",
       "  'visibility': 16,\n",
       "  'wind_speed': 7,\n",
       "  'wind_degree': 106}]"
      ]
     },
     "execution_count": 97,
     "metadata": {},
     "output_type": "execute_result"
    }
   ],
   "source": [
    "transformed_data"
   ]
  },
  {
   "cell_type": "code",
   "execution_count": 98,
   "metadata": {},
   "outputs": [
    {
     "data": {
      "text/html": [
       "<div>\n",
       "<style scoped>\n",
       "    .dataframe tbody tr th:only-of-type {\n",
       "        vertical-align: middle;\n",
       "    }\n",
       "\n",
       "    .dataframe tbody tr th {\n",
       "        vertical-align: top;\n",
       "    }\n",
       "\n",
       "    .dataframe thead th {\n",
       "        text-align: right;\n",
       "    }\n",
       "</style>\n",
       "<table border=\"1\" class=\"dataframe\">\n",
       "  <thead>\n",
       "    <tr style=\"text-align: right;\">\n",
       "      <th></th>\n",
       "      <th>location</th>\n",
       "      <th>temperature</th>\n",
       "      <th>local_time</th>\n",
       "      <th>humidity</th>\n",
       "      <th>pressure</th>\n",
       "      <th>visibility</th>\n",
       "      <th>wind_speed</th>\n",
       "      <th>wind_degree</th>\n",
       "    </tr>\n",
       "  </thead>\n",
       "  <tbody>\n",
       "    <tr>\n",
       "      <th>0</th>\n",
       "      <td>New York</td>\n",
       "      <td>4</td>\n",
       "      <td>2024-12-03 14:11</td>\n",
       "      <td>46</td>\n",
       "      <td>1024</td>\n",
       "      <td>16</td>\n",
       "      <td>15</td>\n",
       "      <td>287</td>\n",
       "    </tr>\n",
       "    <tr>\n",
       "      <th>1</th>\n",
       "      <td>Los Angeles</td>\n",
       "      <td>16</td>\n",
       "      <td>2024-12-03 10:56</td>\n",
       "      <td>62</td>\n",
       "      <td>1021</td>\n",
       "      <td>13</td>\n",
       "      <td>4</td>\n",
       "      <td>144</td>\n",
       "    </tr>\n",
       "    <tr>\n",
       "      <th>2</th>\n",
       "      <td>Chicago</td>\n",
       "      <td>-1</td>\n",
       "      <td>2024-12-03 13:11</td>\n",
       "      <td>58</td>\n",
       "      <td>1031</td>\n",
       "      <td>16</td>\n",
       "      <td>17</td>\n",
       "      <td>240</td>\n",
       "    </tr>\n",
       "    <tr>\n",
       "      <th>3</th>\n",
       "      <td>Houston</td>\n",
       "      <td>17</td>\n",
       "      <td>2024-12-03 13:11</td>\n",
       "      <td>32</td>\n",
       "      <td>1030</td>\n",
       "      <td>16</td>\n",
       "      <td>15</td>\n",
       "      <td>100</td>\n",
       "    </tr>\n",
       "    <tr>\n",
       "      <th>4</th>\n",
       "      <td>Phoenix</td>\n",
       "      <td>24</td>\n",
       "      <td>2024-12-03 12:27</td>\n",
       "      <td>14</td>\n",
       "      <td>1019</td>\n",
       "      <td>16</td>\n",
       "      <td>7</td>\n",
       "      <td>106</td>\n",
       "    </tr>\n",
       "  </tbody>\n",
       "</table>\n",
       "</div>"
      ],
      "text/plain": [
       "      location  temperature        local_time  humidity  pressure  visibility  \\\n",
       "0     New York            4  2024-12-03 14:11        46      1024          16   \n",
       "1  Los Angeles           16  2024-12-03 10:56        62      1021          13   \n",
       "2      Chicago           -1  2024-12-03 13:11        58      1031          16   \n",
       "3      Houston           17  2024-12-03 13:11        32      1030          16   \n",
       "4      Phoenix           24  2024-12-03 12:27        14      1019          16   \n",
       "\n",
       "   wind_speed  wind_degree  \n",
       "0          15          287  \n",
       "1           4          144  \n",
       "2          17          240  \n",
       "3          15          100  \n",
       "4           7          106  "
      ]
     },
     "execution_count": 98,
     "metadata": {},
     "output_type": "execute_result"
    }
   ],
   "source": [
    "#converting the new weather data to a dataf frame\n",
    "transformed_data2 = pd.DataFrame(transformed_data)\n",
    "transformed_data2"
   ]
  },
  {
   "cell_type": "code",
   "execution_count": 87,
   "metadata": {},
   "outputs": [
    {
     "name": "stdout",
     "output_type": "stream",
     "text": [
      "DB_NAME: Weather_db\n",
      "DB_USERNAME: postgres\n",
      "DB_PASSWORD: 3253\n",
      "DB_HOST: localhost\n",
      "DB_PORT: 5432\n"
     ]
    }
   ],
   "source": [
    "load_dotenv()  # Load environment variables\n",
    "print(\"DB_NAME:\", os.getenv(\"DB_NAME\"))\n",
    "print(\"DB_USERNAME:\", os.getenv(\"DB_USERNAME\"))  # or DB_USER depending on what you used\n",
    "print(\"DB_PASSWORD:\", os.getenv(\"DB_PASSWORD\"))\n",
    "print(\"DB_HOST:\", os.getenv(\"DB_HOST\"))\n",
    "print(\"DB_PORT:\", os.getenv(\"DB_PORT\"))\n"
   ]
  },
  {
   "cell_type": "code",
   "execution_count": null,
   "metadata": {},
   "outputs": [
    {
     "name": "stdout",
     "output_type": "stream",
     "text": [
      "Database connection successful!\n"
     ]
    }
   ],
   "source": [
    "#connecting to the database, ps: make sure  there are no spaces\n",
    "try:\n",
    "    conn = psycopg2.connect(\n",
    "    database=os.getenv(\"DB_NAME\"),\n",
    "    user=os.getenv(\"DB_USERNAME\"),\n",
    "    password=os.getenv(\"DB_PASSWORD\"),\n",
    "    host=os.getenv(\"DB_HOST\")    \n",
    "    )\n",
    "    print(\"Database connection successful!\")\n",
    "except psycopg2.OperationalError as e:\n",
    "    print(\"Database connection failed:\", e)\n"
   ]
  },
  {
   "cell_type": "code",
   "execution_count": null,
   "metadata": {},
   "outputs": [],
   "source": [
    "#now that we have successfully connected tomthe SQL database, we will create tables in the database\n"
   ]
  },
  {
   "cell_type": "code",
   "execution_count": 112,
   "metadata": {},
   "outputs": [],
   "source": [
    "\n",
    "#to drop tables if need be\n",
    "try:\n",
    "    cur.execute(\"\"\"DROP TABLE weather\"\"\")\n",
    "except Exception as e:\n",
    "    print(\"Error executing SQL:\", e)\n",
    "    conn.rollback()  # Rollback the transaction if there's an error"
   ]
  },
  {
   "cell_type": "code",
   "execution_count": 113,
   "metadata": {},
   "outputs": [],
   "source": [
    "try:\n",
    "    cur.execute(\n",
    "    \"\"\"\n",
    "    CREATE TABLE weather (\n",
    "        id  SERIAL PRIMARY KEY,\n",
    "        location VARCHAR(100),\n",
    "        temperature FLOAT,\n",
    "        local_time TIMESTAMP,\n",
    "        humidity FLOAT,\n",
    "        pressure FLOAT,\n",
    "        visibility FLOAT,\n",
    "        wind_speed FLOAT,\n",
    "        wind_degree FLOAT\n",
    "        \n",
    "    )\n",
    "    \"\"\")\n",
    "    conn.commit()  # Commit the changes if the command succeeds\n",
    "except Exception as e:\n",
    "    print(\"Error executing SQL:\", e)\n",
    "    conn.rollback()  # Rollback the transaction if there's an error"
   ]
  },
  {
   "cell_type": "code",
   "execution_count": null,
   "metadata": {},
   "outputs": [],
   "source": [
    "#lets insert the data from the dataframe into the weather table\n",
    "try:\n",
    "    for _, row in transformed_data2.iterrows():\n",
    "        insert_query = \"\"\"\n",
    "        INSERT INTO weather (location, temperature, local_time, humidity, pressure, visibility, \n",
    "                         wind_speed, wind_degree) \n",
    "        VALUES (%s, %s, %s, %s, %s, %s, %s, %s)#placeholder for the values\n",
    "        \"\"\"\n",
    "        cur.execute(insert_query, tuple(row))\n",
    "        conn.commit()\n",
    "except Exception as e:\n",
    "    print(\"Error executing SQL:\", e)\n",
    "    conn.rollback()  # Rollback the transaction if there's an error\n",
    "\n"
   ]
  }
 ],
 "metadata": {
  "kernelspec": {
   "display_name": "envr",
   "language": "python",
   "name": "python3"
  },
  "language_info": {
   "codemirror_mode": {
    "name": "ipython",
    "version": 3
   },
   "file_extension": ".py",
   "mimetype": "text/x-python",
   "name": "python",
   "nbconvert_exporter": "python",
   "pygments_lexer": "ipython3",
   "version": "3.12.7"
  }
 },
 "nbformat": 4,
 "nbformat_minor": 2
}
