{
 "cells": [
  {
   "cell_type": "code",
   "execution_count": 32,
   "metadata": {},
   "outputs": [],
   "source": [
    "import pandas as pd\n",
    "import os\n",
    "import requests\n",
    "import psycopg2\n",
    "from dotenv import load_dotenv\n",
    "from pprint import pprint\n"
   ]
  },
  {
   "cell_type": "code",
   "execution_count": 29,
   "metadata": {},
   "outputs": [
    {
     "name": "stdout",
     "output_type": "stream",
     "text": [
      "0fbcbae8b0c700cd4557420dd298288f\n"
     ]
    }
   ],
   "source": [
    "#load the api key from the dotenv file and make sure you save the contents of the .env file\n",
    "load_dotenv()\n",
    "API_KEY = os.getenv(\"API_KEY\")\n",
    "print(API_KEY)"
   ]
  },
  {
   "cell_type": "code",
   "execution_count": 30,
   "metadata": {},
   "outputs": [],
   "source": [
    "#get the url for the data\n",
    "BASE_URL = \"http://api.weatherstack.com/current\""
   ]
  },
  {
   "cell_type": "code",
   "execution_count": 31,
   "metadata": {},
   "outputs": [],
   "source": [
    "\n",
    "location = \"New York\"\n",
    "params = {\n",
    "    \"access_key\": API_KEY,\n",
    "    \"query\": location\n",
    "}"
   ]
  },
  {
   "cell_type": "code",
   "execution_count": 28,
   "metadata": {},
   "outputs": [
    {
     "name": "stdout",
     "output_type": "stream",
     "text": [
      "{'request': {'type': 'City', 'query': 'New York, United States of America', 'language': 'en', 'unit': 'm'}, 'location': {'name': 'New York', 'country': 'United States of America', 'region': 'New York', 'lat': '40.714', 'lon': '-74.006', 'timezone_id': 'America/New_York', 'localtime': '2024-12-03 12:05', 'localtime_epoch': 1733227500, 'utc_offset': '-5.0'}, 'current': {'observation_time': '05:05 PM', 'temperature': 3, 'weather_code': 116, 'weather_icons': ['https://cdn.worldweatheronline.com/images/wsymbols01_png_64/wsymbol_0002_sunny_intervals.png'], 'weather_descriptions': ['Partly cloudy'], 'wind_speed': 15, 'wind_degree': 304, 'wind_dir': 'WNW', 'pressure': 1025, 'precip': 0, 'humidity': 56, 'cloudcover': 25, 'feelslike': -1, 'uv_index': 1, 'visibility': 16, 'is_day': 'yes'}}\n"
     ]
    }
   ],
   "source": [
    "response = requests.get(BASE_URL, params = params)\n",
    "if response.status_code == 200:\n",
    "    data = response.json()\n",
    "print(data)\n"
   ]
  },
  {
   "cell_type": "code",
   "execution_count": 33,
   "metadata": {},
   "outputs": [
    {
     "name": "stdout",
     "output_type": "stream",
     "text": [
      "{'current': {'cloudcover': 25,\n",
      "             'feelslike': -1,\n",
      "             'humidity': 56,\n",
      "             'is_day': 'yes',\n",
      "             'observation_time': '05:05 PM',\n",
      "             'precip': 0,\n",
      "             'pressure': 1025,\n",
      "             'temperature': 3,\n",
      "             'uv_index': 1,\n",
      "             'visibility': 16,\n",
      "             'weather_code': 116,\n",
      "             'weather_descriptions': ['Partly cloudy'],\n",
      "             'weather_icons': ['https://cdn.worldweatheronline.com/images/wsymbols01_png_64/wsymbol_0002_sunny_intervals.png'],\n",
      "             'wind_degree': 304,\n",
      "             'wind_dir': 'WNW',\n",
      "             'wind_speed': 15},\n",
      " 'location': {'country': 'United States of America',\n",
      "              'lat': '40.714',\n",
      "              'localtime': '2024-12-03 12:05',\n",
      "              'localtime_epoch': 1733227500,\n",
      "              'lon': '-74.006',\n",
      "              'name': 'New York',\n",
      "              'region': 'New York',\n",
      "              'timezone_id': 'America/New_York',\n",
      "              'utc_offset': '-5.0'},\n",
      " 'request': {'language': 'en',\n",
      "             'query': 'New York, United States of America',\n",
      "             'type': 'City',\n",
      "             'unit': 'm'}}\n"
     ]
    }
   ],
   "source": [
    "#lets use pprint to make it more readable\n",
    "pprint(data)"
   ]
  },
  {
   "cell_type": "code",
   "execution_count": null,
   "metadata": {},
   "outputs": [],
   "source": [
    "#let us retrieve some important information from the json file\n",
    "#location, temperature, local time, precip, pressure, humidity, visibility and wind degree"
   ]
  }
 ],
 "metadata": {
  "kernelspec": {
   "display_name": "envr",
   "language": "python",
   "name": "python3"
  },
  "language_info": {
   "codemirror_mode": {
    "name": "ipython",
    "version": 3
   },
   "file_extension": ".py",
   "mimetype": "text/x-python",
   "name": "python",
   "nbconvert_exporter": "python",
   "pygments_lexer": "ipython3",
   "version": "3.12.7"
  }
 },
 "nbformat": 4,
 "nbformat_minor": 2
}
